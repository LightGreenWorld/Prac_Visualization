{
 "cells": [
  {
   "cell_type": "markdown",
   "metadata": {},
   "source": [
    "# Mini Project\n",
    "\n",
    "## 자전거 수요량 예측 데이터 분석  \n",
    "https://www.kaggle.com/c/bike-sharing-demand\n",
    "\n",
    "\n",
    "\n",
    "### 1. 가설 설정\n",
    "데이터 분석 전에 데이터 간의 연관성에 대한 임의의 가설 설정하기\n",
    "- 날씨가 맑고 바람이 많이 부는 날에 자전거 대여수가 많을 것이다.\n",
    "- 봄과 가을에 자전거를 더 많이 탈 것이다.\n",
    "- 출퇴근 시간(8:00-10:00, 18:00-20:00)에 자전거를 더 많이 탈 것이다.\n",
    "- Count 대비 registered의 비율은 온도변화와 전혀 관계가 없을 것이다. \n",
    "\n",
    "### 2. 데이터 시각화 \n",
    "4종류 이상의 시각화 기법을 사용하여 그래프 그리기\n",
    "Seaborn 라이브러리 활용\n",
    "\n",
    "### 3. 데이터 분석\n",
    "각 그래프로부터 얻을 수 있는 의미 도출\n",
    "\n",
    "### 4. 최초의 가설 검정\n",
    "가설이 유의미한지 여부 판단하기"
   ]
  },
  {
   "cell_type": "code",
   "execution_count": 1,
   "metadata": {},
   "outputs": [],
   "source": [
    "import numpy as np\n",
    "import seaborn as sns\n",
    "import pandas as pd\n",
    "import matplotlib.pyplot as plt\n",
    "%matplotlib inline"
   ]
  },
  {
   "cell_type": "code",
   "execution_count": 2,
   "metadata": {},
   "outputs": [
    {
     "name": "stdout",
     "output_type": "stream",
     "text": [
      "                  datetime  season  holiday  workingday  weather   temp  \\\n",
      "0      2011-01-01 00:00:00       1        0           0        1   9.84   \n",
      "1      2011-01-01 01:00:00       1        0           0        1   9.02   \n",
      "2      2011-01-01 02:00:00       1        0           0        1   9.02   \n",
      "3      2011-01-01 03:00:00       1        0           0        1   9.84   \n",
      "4      2011-01-01 04:00:00       1        0           0        1   9.84   \n",
      "...                    ...     ...      ...         ...      ...    ...   \n",
      "10881  2012-12-19 19:00:00       4        0           1        1  15.58   \n",
      "10882  2012-12-19 20:00:00       4        0           1        1  14.76   \n",
      "10883  2012-12-19 21:00:00       4        0           1        1  13.94   \n",
      "10884  2012-12-19 22:00:00       4        0           1        1  13.94   \n",
      "10885  2012-12-19 23:00:00       4        0           1        1  13.12   \n",
      "\n",
      "        atemp  humidity  windspeed  casual  registered  count  \n",
      "0      14.395        81     0.0000       3          13     16  \n",
      "1      13.635        80     0.0000       8          32     40  \n",
      "2      13.635        80     0.0000       5          27     32  \n",
      "3      14.395        75     0.0000       3          10     13  \n",
      "4      14.395        75     0.0000       0           1      1  \n",
      "...       ...       ...        ...     ...         ...    ...  \n",
      "10881  19.695        50    26.0027       7         329    336  \n",
      "10882  17.425        57    15.0013      10         231    241  \n",
      "10883  15.910        61    15.0013       4         164    168  \n",
      "10884  17.425        61     6.0032      12         117    129  \n",
      "10885  16.665        66     8.9981       4          84     88  \n",
      "\n",
      "[10886 rows x 12 columns]\n"
     ]
    }
   ],
   "source": [
    "# 읽어드릴 파일 경로 : /dataset/bike_sharing_demand_train.csv\n",
    "filepath = \"./dataset/bike_sharing_demand_train.csv\"\n",
    "data = pd.read_csv(filepath)\n",
    "print(data)"
   ]
  },
  {
   "cell_type": "code",
   "execution_count": 3,
   "metadata": {},
   "outputs": [],
   "source": [
    "# 데이터 타입 변경: object > datetime\n",
    "data['datetime'] = data['datetime'].astype('datetime64')"
   ]
  },
  {
   "cell_type": "code",
   "execution_count": 4,
   "metadata": {},
   "outputs": [
    {
     "data": {
      "text/plain": [
       "datetime      datetime64[ns]\n",
       "season                 int64\n",
       "holiday                int64\n",
       "workingday             int64\n",
       "weather                int64\n",
       "temp                 float64\n",
       "atemp                float64\n",
       "humidity               int64\n",
       "windspeed            float64\n",
       "casual                 int64\n",
       "registered             int64\n",
       "count                  int64\n",
       "dtype: object"
      ]
     },
     "execution_count": 4,
     "metadata": {},
     "output_type": "execute_result"
    }
   ],
   "source": [
    "data.dtypes"
   ]
  },
  {
   "cell_type": "code",
   "execution_count": 5,
   "metadata": {},
   "outputs": [],
   "source": [
    "#연, 월, 일, 시, 분, 초 쪼개기\n",
    "data['year']=data['datetime'].dt.year\n",
    "data['month']=data['datetime'].dt.month\n",
    "data['day']=data['datetime'].dt.day\n",
    "data['hour']=data['datetime'].dt.hour\n",
    "data['minute']=data['datetime'].dt.minute\n",
    "data['second']=data['datetime'].dt.second"
   ]
  },
  {
   "cell_type": "code",
   "execution_count": 6,
   "metadata": {},
   "outputs": [
    {
     "name": "stdout",
     "output_type": "stream",
     "text": [
      "                 datetime  season  holiday  workingday  weather   temp  \\\n",
      "0     2011-01-01 00:00:00       1        0           0        1   9.84   \n",
      "1     2011-01-01 01:00:00       1        0           0        1   9.02   \n",
      "2     2011-01-01 02:00:00       1        0           0        1   9.02   \n",
      "3     2011-01-01 03:00:00       1        0           0        1   9.84   \n",
      "4     2011-01-01 04:00:00       1        0           0        1   9.84   \n",
      "...                   ...     ...      ...         ...      ...    ...   \n",
      "10881 2012-12-19 19:00:00       4        0           1        1  15.58   \n",
      "10882 2012-12-19 20:00:00       4        0           1        1  14.76   \n",
      "10883 2012-12-19 21:00:00       4        0           1        1  13.94   \n",
      "10884 2012-12-19 22:00:00       4        0           1        1  13.94   \n",
      "10885 2012-12-19 23:00:00       4        0           1        1  13.12   \n",
      "\n",
      "        atemp  humidity  windspeed  casual  registered  count  year  month  \\\n",
      "0      14.395        81     0.0000       3          13     16  2011      1   \n",
      "1      13.635        80     0.0000       8          32     40  2011      1   \n",
      "2      13.635        80     0.0000       5          27     32  2011      1   \n",
      "3      14.395        75     0.0000       3          10     13  2011      1   \n",
      "4      14.395        75     0.0000       0           1      1  2011      1   \n",
      "...       ...       ...        ...     ...         ...    ...   ...    ...   \n",
      "10881  19.695        50    26.0027       7         329    336  2012     12   \n",
      "10882  17.425        57    15.0013      10         231    241  2012     12   \n",
      "10883  15.910        61    15.0013       4         164    168  2012     12   \n",
      "10884  17.425        61     6.0032      12         117    129  2012     12   \n",
      "10885  16.665        66     8.9981       4          84     88  2012     12   \n",
      "\n",
      "       day  hour  minute  second  re_count  \n",
      "0        1     0       0       0  0.812500  \n",
      "1        1     1       0       0  0.800000  \n",
      "2        1     2       0       0  0.843750  \n",
      "3        1     3       0       0  0.769231  \n",
      "4        1     4       0       0  1.000000  \n",
      "...    ...   ...     ...     ...       ...  \n",
      "10881   19    19       0       0  0.979167  \n",
      "10882   19    20       0       0  0.958506  \n",
      "10883   19    21       0       0  0.976190  \n",
      "10884   19    22       0       0  0.906977  \n",
      "10885   19    23       0       0  0.954545  \n",
      "\n",
      "[10886 rows x 19 columns]\n"
     ]
    }
   ],
   "source": [
    "data['re_count'] = data['registered'] / data['count']\n",
    "print(data)"
   ]
  },
  {
   "cell_type": "markdown",
   "metadata": {},
   "source": [
    "#### 1) 날씨가 맑고 바람이 많이 부는 날에 자전거 대여수가 많을 것이다."
   ]
  },
  {
   "cell_type": "code",
   "execution_count": 16,
   "metadata": {},
   "outputs": [
    {
     "data": {
      "text/html": [
       "<div>\n",
       "<style scoped>\n",
       "    .dataframe tbody tr th:only-of-type {\n",
       "        vertical-align: middle;\n",
       "    }\n",
       "\n",
       "    .dataframe tbody tr th {\n",
       "        vertical-align: top;\n",
       "    }\n",
       "\n",
       "    .dataframe thead th {\n",
       "        text-align: right;\n",
       "    }\n",
       "</style>\n",
       "<table border=\"1\" class=\"dataframe\">\n",
       "  <thead>\n",
       "    <tr style=\"text-align: right;\">\n",
       "      <th></th>\n",
       "      <th>season</th>\n",
       "      <th>holiday</th>\n",
       "      <th>workingday</th>\n",
       "      <th>temp</th>\n",
       "      <th>atemp</th>\n",
       "      <th>humidity</th>\n",
       "      <th>windspeed</th>\n",
       "      <th>casual</th>\n",
       "      <th>registered</th>\n",
       "      <th>count</th>\n",
       "      <th>year</th>\n",
       "      <th>month</th>\n",
       "      <th>day</th>\n",
       "      <th>hour</th>\n",
       "      <th>minute</th>\n",
       "      <th>second</th>\n",
       "      <th>re_count</th>\n",
       "    </tr>\n",
       "    <tr>\n",
       "      <th>weather</th>\n",
       "      <th></th>\n",
       "      <th></th>\n",
       "      <th></th>\n",
       "      <th></th>\n",
       "      <th></th>\n",
       "      <th></th>\n",
       "      <th></th>\n",
       "      <th></th>\n",
       "      <th></th>\n",
       "      <th></th>\n",
       "      <th></th>\n",
       "      <th></th>\n",
       "      <th></th>\n",
       "      <th></th>\n",
       "      <th></th>\n",
       "      <th></th>\n",
       "      <th></th>\n",
       "    </tr>\n",
       "  </thead>\n",
       "  <tbody>\n",
       "    <tr>\n",
       "      <th>1</th>\n",
       "      <td>17959</td>\n",
       "      <td>204</td>\n",
       "      <td>4839</td>\n",
       "      <td>147846.82</td>\n",
       "      <td>172565.755</td>\n",
       "      <td>407907</td>\n",
       "      <td>92723.1626</td>\n",
       "      <td>289900</td>\n",
       "      <td>1186163</td>\n",
       "      <td>1476063</td>\n",
       "      <td>14466721</td>\n",
       "      <td>46599</td>\n",
       "      <td>71858</td>\n",
       "      <td>84390</td>\n",
       "      <td>0</td>\n",
       "      <td>0</td>\n",
       "      <td>5899.193218</td>\n",
       "    </tr>\n",
       "    <tr>\n",
       "      <th>2</th>\n",
       "      <td>7171</td>\n",
       "      <td>92</td>\n",
       "      <td>1937</td>\n",
       "      <td>55587.80</td>\n",
       "      <td>65387.220</td>\n",
       "      <td>195831</td>\n",
       "      <td>34517.8506</td>\n",
       "      <td>87246</td>\n",
       "      <td>419914</td>\n",
       "      <td>507160</td>\n",
       "      <td>5700642</td>\n",
       "      <td>18795</td>\n",
       "      <td>28633</td>\n",
       "      <td>31035</td>\n",
       "      <td>0</td>\n",
       "      <td>0</td>\n",
       "      <td>2375.116614</td>\n",
       "    </tr>\n",
       "    <tr>\n",
       "      <th>3</th>\n",
       "      <td>2156</td>\n",
       "      <td>15</td>\n",
       "      <td>635</td>\n",
       "      <td>16790.32</td>\n",
       "      <td>19544.905</td>\n",
       "      <td>69872</td>\n",
       "      <td>12087.2020</td>\n",
       "      <td>14983</td>\n",
       "      <td>87106</td>\n",
       "      <td>102089</td>\n",
       "      <td>1727835</td>\n",
       "      <td>5598</td>\n",
       "      <td>8279</td>\n",
       "      <td>10199</td>\n",
       "      <td>0</td>\n",
       "      <td>0</td>\n",
       "      <td>749.129203</td>\n",
       "    </tr>\n",
       "    <tr>\n",
       "      <th>4</th>\n",
       "      <td>1</td>\n",
       "      <td>0</td>\n",
       "      <td>1</td>\n",
       "      <td>8.20</td>\n",
       "      <td>11.365</td>\n",
       "      <td>86</td>\n",
       "      <td>6.0032</td>\n",
       "      <td>6</td>\n",
       "      <td>158</td>\n",
       "      <td>164</td>\n",
       "      <td>2012</td>\n",
       "      <td>1</td>\n",
       "      <td>9</td>\n",
       "      <td>18</td>\n",
       "      <td>0</td>\n",
       "      <td>0</td>\n",
       "      <td>0.963415</td>\n",
       "    </tr>\n",
       "  </tbody>\n",
       "</table>\n",
       "</div>"
      ],
      "text/plain": [
       "         season  holiday  workingday       temp       atemp  humidity  \\\n",
       "weather                                                                 \n",
       "1         17959      204        4839  147846.82  172565.755    407907   \n",
       "2          7171       92        1937   55587.80   65387.220    195831   \n",
       "3          2156       15         635   16790.32   19544.905     69872   \n",
       "4             1        0           1       8.20      11.365        86   \n",
       "\n",
       "          windspeed  casual  registered    count      year  month    day  \\\n",
       "weather                                                                    \n",
       "1        92723.1626  289900     1186163  1476063  14466721  46599  71858   \n",
       "2        34517.8506   87246      419914   507160   5700642  18795  28633   \n",
       "3        12087.2020   14983       87106   102089   1727835   5598   8279   \n",
       "4            6.0032       6         158      164      2012      1      9   \n",
       "\n",
       "          hour  minute  second     re_count  \n",
       "weather                                      \n",
       "1        84390       0       0  5899.193218  \n",
       "2        31035       0       0  2375.116614  \n",
       "3        10199       0       0   749.129203  \n",
       "4           18       0       0     0.963415  "
      ]
     },
     "execution_count": 16,
     "metadata": {},
     "output_type": "execute_result"
    },
    {
     "data": {
      "text/plain": [
       "<Figure size 864x216 with 0 Axes>"
      ]
     },
     "metadata": {},
     "output_type": "display_data"
    }
   ],
   "source": [
    "# 별 그룹 바이\n",
    "plt.figure(figsize=(12, 3))\n",
    "ttl_count_by_weather = data.groupby('weather').sum()\n",
    "ttl_count_by_weather"
   ]
  },
  {
   "cell_type": "code",
   "execution_count": 18,
   "metadata": {},
   "outputs": [
    {
     "data": {
      "text/plain": [
       "<matplotlib.axes._subplots.AxesSubplot at 0x18d97a5bf88>"
      ]
     },
     "execution_count": 18,
     "metadata": {},
     "output_type": "execute_result"
    },
    {
     "data": {
      "image/png": "[encoded data removed]",
      "text/plain": [
       "<Figure size 864x216 with 1 Axes>"
      ]
     },
     "metadata": {
      "needs_background": "light"
     },
     "output_type": "display_data"
    }
   ],
   "source": [
    "plt.figure(figsize=(12, 3))\n",
    "plt.title(\"Relation between rental sum and weather\")\n",
    "sns.barplot(data = ttl_count_by_weather, x = ttl_count_by_weather.index, y = \"count\")"
   ]
  },
  {
   "cell_type": "markdown",
   "metadata": {},
   "source": [
    "#### 2) 봄과 가을에 자전거를 더 많이 탈 것이다."
   ]
  },
  {
   "cell_type": "code",
   "execution_count": 12,
   "metadata": {},
   "outputs": [
    {
     "data": {
      "text/html": [
       "<div>\n",
       "<style scoped>\n",
       "    .dataframe tbody tr th:only-of-type {\n",
       "        vertical-align: middle;\n",
       "    }\n",
       "\n",
       "    .dataframe tbody tr th {\n",
       "        vertical-align: top;\n",
       "    }\n",
       "\n",
       "    .dataframe thead th {\n",
       "        text-align: right;\n",
       "    }\n",
       "</style>\n",
       "<table border=\"1\" class=\"dataframe\">\n",
       "  <thead>\n",
       "    <tr style=\"text-align: right;\">\n",
       "      <th></th>\n",
       "      <th>holiday</th>\n",
       "      <th>workingday</th>\n",
       "      <th>weather</th>\n",
       "      <th>temp</th>\n",
       "      <th>atemp</th>\n",
       "      <th>humidity</th>\n",
       "      <th>windspeed</th>\n",
       "      <th>casual</th>\n",
       "      <th>registered</th>\n",
       "      <th>count</th>\n",
       "      <th>year</th>\n",
       "      <th>month</th>\n",
       "      <th>day</th>\n",
       "      <th>hour</th>\n",
       "      <th>minute</th>\n",
       "      <th>second</th>\n",
       "      <th>re_count</th>\n",
       "    </tr>\n",
       "    <tr>\n",
       "      <th>season</th>\n",
       "      <th></th>\n",
       "      <th></th>\n",
       "      <th></th>\n",
       "      <th></th>\n",
       "      <th></th>\n",
       "      <th></th>\n",
       "      <th></th>\n",
       "      <th></th>\n",
       "      <th></th>\n",
       "      <th></th>\n",
       "      <th></th>\n",
       "      <th></th>\n",
       "      <th></th>\n",
       "      <th></th>\n",
       "      <th></th>\n",
       "      <th></th>\n",
       "      <th></th>\n",
       "    </tr>\n",
       "  </thead>\n",
       "  <tbody>\n",
       "    <tr>\n",
       "      <th>1</th>\n",
       "      <td>71</td>\n",
       "      <td>1828</td>\n",
       "      <td>3826</td>\n",
       "      <td>33656.90</td>\n",
       "      <td>40904.975</td>\n",
       "      <td>151216</td>\n",
       "      <td>39314.9233</td>\n",
       "      <td>41605</td>\n",
       "      <td>270893</td>\n",
       "      <td>312498</td>\n",
       "      <td>5402909</td>\n",
       "      <td>5389</td>\n",
       "      <td>26776</td>\n",
       "      <td>31272</td>\n",
       "      <td>0</td>\n",
       "      <td>0</td>\n",
       "      <td>2373.205775</td>\n",
       "    </tr>\n",
       "    <tr>\n",
       "      <th>2</th>\n",
       "      <td>48</td>\n",
       "      <td>1893</td>\n",
       "      <td>3889</td>\n",
       "      <td>62376.58</td>\n",
       "      <td>72826.520</td>\n",
       "      <td>166311</td>\n",
       "      <td>36637.5229</td>\n",
       "      <td>129672</td>\n",
       "      <td>458610</td>\n",
       "      <td>588282</td>\n",
       "      <td>5497429</td>\n",
       "      <td>13668</td>\n",
       "      <td>27336</td>\n",
       "      <td>31454</td>\n",
       "      <td>0</td>\n",
       "      <td>0</td>\n",
       "      <td>2154.510226</td>\n",
       "    </tr>\n",
       "    <tr>\n",
       "      <th>3</th>\n",
       "      <td>96</td>\n",
       "      <td>1845</td>\n",
       "      <td>3735</td>\n",
       "      <td>78680.64</td>\n",
       "      <td>88933.960</td>\n",
       "      <td>175250</td>\n",
       "      <td>31453.7195</td>\n",
       "      <td>142718</td>\n",
       "      <td>497944</td>\n",
       "      <td>640662</td>\n",
       "      <td>5497431</td>\n",
       "      <td>21861</td>\n",
       "      <td>27334</td>\n",
       "      <td>31458</td>\n",
       "      <td>0</td>\n",
       "      <td>0</td>\n",
       "      <td>2127.529676</td>\n",
       "    </tr>\n",
       "    <tr>\n",
       "      <th>4</th>\n",
       "      <td>96</td>\n",
       "      <td>1846</td>\n",
       "      <td>3991</td>\n",
       "      <td>45519.02</td>\n",
       "      <td>54843.790</td>\n",
       "      <td>180919</td>\n",
       "      <td>31928.0527</td>\n",
       "      <td>78140</td>\n",
       "      <td>465894</td>\n",
       "      <td>544034</td>\n",
       "      <td>5499441</td>\n",
       "      <td>30075</td>\n",
       "      <td>27333</td>\n",
       "      <td>31458</td>\n",
       "      <td>0</td>\n",
       "      <td>0</td>\n",
       "      <td>2369.156773</td>\n",
       "    </tr>\n",
       "  </tbody>\n",
       "</table>\n",
       "</div>"
      ],
      "text/plain": [
       "        holiday  workingday  weather      temp      atemp  humidity  \\\n",
       "season                                                                \n",
       "1            71        1828     3826  33656.90  40904.975    151216   \n",
       "2            48        1893     3889  62376.58  72826.520    166311   \n",
       "3            96        1845     3735  78680.64  88933.960    175250   \n",
       "4            96        1846     3991  45519.02  54843.790    180919   \n",
       "\n",
       "         windspeed  casual  registered   count     year  month    day   hour  \\\n",
       "season                                                                         \n",
       "1       39314.9233   41605      270893  312498  5402909   5389  26776  31272   \n",
       "2       36637.5229  129672      458610  588282  5497429  13668  27336  31454   \n",
       "3       31453.7195  142718      497944  640662  5497431  21861  27334  31458   \n",
       "4       31928.0527   78140      465894  544034  5499441  30075  27333  31458   \n",
       "\n",
       "        minute  second     re_count  \n",
       "season                               \n",
       "1            0       0  2373.205775  \n",
       "2            0       0  2154.510226  \n",
       "3            0       0  2127.529676  \n",
       "4            0       0  2369.156773  "
      ]
     },
     "execution_count": 12,
     "metadata": {},
     "output_type": "execute_result"
    },
    {
     "data": {
      "text/plain": [
       "<Figure size 864x216 with 0 Axes>"
      ]
     },
     "metadata": {},
     "output_type": "display_data"
    }
   ],
   "source": [
    "# 계절별 그룹 바이\n",
    "plt.figure(figsize=(12, 3))\n",
    "ttl_count_by_season = data.groupby('season').sum()\n",
    "ttl_count_by_season"
   ]
  },
  {
   "cell_type": "code",
   "execution_count": 13,
   "metadata": {},
   "outputs": [
    {
     "data": {
      "text/plain": [
       "<matplotlib.axes._subplots.AxesSubplot at 0x18d97cf9708>"
      ]
     },
     "execution_count": 13,
     "metadata": {},
     "output_type": "execute_result"
    },
    {
     "data": {
      "image/png": "[encoded data removed]",
      "text/plain": [
       "<Figure size 864x216 with 1 Axes>"
      ]
     },
     "metadata": {
      "needs_background": "light"
     },
     "output_type": "display_data"
    }
   ],
   "source": [
    "plt.figure(figsize=(12, 3))\n",
    "plt.title(\"Relation between rental sum and season\")\n",
    "sns.barplot(data = ttl_count_by_season, x = ttl_count_by_season.index, y = \"count\")"
   ]
  },
  {
   "cell_type": "markdown",
   "metadata": {},
   "source": [
    "#### 3) 출퇴근 시간(8:00-10:00, 18:00-20:00)에 자전거를 더 많이 탈 것이다."
   ]
  },
  {
   "cell_type": "code",
   "execution_count": null,
   "metadata": {},
   "outputs": [],
   "source": [
    "# 시간별 그룹 바이\n",
    "plt.figure(figsize=(12, 3))\n",
    "ttl_count_by_hour = data.groupby('hour').sum()\n",
    "ttl_count_by_hour"
   ]
  },
  {
   "cell_type": "code",
   "execution_count": null,
   "metadata": {},
   "outputs": [],
   "source": [
    "plt.figure(figsize=(12, 3))\n",
    "plt.title(\"Relation between hour and rental count\")\n",
    "sns.barplot(data = ttl_count_by_hour, x = ttl_count_by_hour.index, y = \"count\")"
   ]
  },
  {
   "cell_type": "markdown",
   "metadata": {},
   "source": [
    "#### 4) Count 대비 registered의 비율은 온도변화와 전혀 관계가 없을 것이다. "
   ]
  },
  {
   "cell_type": "code",
   "execution_count": null,
   "metadata": {},
   "outputs": [],
   "source": [
    "plt.figure(figsize=(30,6)) \n",
    "\n",
    "plt.title(\"Relation between registered cycle rate and temp.\")\n",
    "\n",
    "# 선그래프 그리기\n",
    "sns.lineplot(data=data['temp'], label=\"temp\") \n",
    "sns.lineplot(data=data['re_count'], label=\"re_count\")\n",
    "\n",
    "plt.xlabel(\"datetime\")"
   ]
  },
  {
   "cell_type": "code",
   "execution_count": null,
   "metadata": {},
   "outputs": [],
   "source": []
  }
 ],
 "metadata": {
  "kernelspec": {
   "display_name": "Python 3",
   "language": "python",
   "name": "python3"
  },
  "language_info": {
   "codemirror_mode": {
    "name": "ipython",
    "version": 3
   },
   "file_extension": ".py",
   "mimetype": "text/x-python",
   "name": "python",
   "nbconvert_exporter": "python",
   "pygments_lexer": "ipython3",
   "version": "3.7.6"
  }
 },
 "nbformat": 4,
 "nbformat_minor": 4
}
